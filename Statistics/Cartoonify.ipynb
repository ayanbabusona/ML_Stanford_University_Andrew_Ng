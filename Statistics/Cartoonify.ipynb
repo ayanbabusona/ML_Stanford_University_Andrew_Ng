{
  "nbformat": 4,
  "nbformat_minor": 0,
  "metadata": {
    "colab": {
      "name": "Cartoonify.ipynb",
      "provenance": [],
      "authorship_tag": "ABX9TyNuwZ9c6QKEFen6TYRKo28J",
      "include_colab_link": true
    },
    "kernelspec": {
      "name": "python3",
      "display_name": "Python 3"
    }
  },
  "cells": [
    {
      "cell_type": "markdown",
      "metadata": {
        "id": "view-in-github",
        "colab_type": "text"
      },
      "source": [
        "<a href=\"https://colab.research.google.com/github/ayanbabusona/tensorflow/blob/master/Cartoonify.ipynb\" target=\"_parent\"><img src=\"https://colab.research.google.com/assets/colab-badge.svg\" alt=\"Open In Colab\"/></a>"
      ]
    },
    {
      "cell_type": "markdown",
      "metadata": {
        "id": "hNhM3mDLznh2",
        "colab_type": "text"
      },
      "source": [
        "Mount google drive with gdrive"
      ]
    },
    {
      "cell_type": "code",
      "metadata": {
        "id": "SWwkHl-WYUAN",
        "colab_type": "code",
        "colab": {
          "base_uri": "https://localhost:8080/",
          "height": 34
        },
        "outputId": "595843b1-64b2-4861-b0c1-c073236eb3f2"
      },
      "source": [
        "from google.colab import drive\n",
        "drive.mount('/content/gdrive')"
      ],
      "execution_count": 2,
      "outputs": [
        {
          "output_type": "stream",
          "text": [
            "Drive already mounted at /content/gdrive; to attempt to forcibly remount, call drive.mount(\"/content/gdrive\", force_remount=True).\n"
          ],
          "name": "stdout"
        }
      ]
    },
    {
      "cell_type": "markdown",
      "metadata": {
        "id": "22DzXM7Ez0Za",
        "colab_type": "text"
      },
      "source": [
        "Let's write the cartoonify program\n",
        "1. Importing libraries\n",
        "2. Smoothing image\n",
        "3. Converting into greyscale & applying the medium blur\n",
        "4. Detect and enhance edges\n",
        "5. Again converting back to color\n",
        "\n",
        "Here I used BilateralFilter for smoothing images and we can make changes in our parameters. The higher values give a higher smoothing effect on the image.\n",
        "\n",
        "Later, converting the color image into greyscale and applying a blur to the grayscale image which adds a cartoony effect to the image and we are using a 7X7 blur filter.\n",
        "\n",
        "Then I used the adaptive threshold function to extract the edges from the image.\n"
      ]
    },
    {
      "cell_type": "code",
      "metadata": {
        "id": "DEKpJnITcngb",
        "colab_type": "code",
        "colab": {
          "base_uri": "https://localhost:8080/",
          "height": 34
        },
        "outputId": "8b340343-f994-4bc6-e74c-07ff01ff97c6"
      },
      "source": [
        "import cv2\n",
        "import sys\n",
        "import numpy as np\n",
        "\n",
        "#read image\n",
        "image = cv2.imread(\"/content/gdrive/My Drive/17101104041.jpg\")\n",
        "\n",
        "#check if image exists\n",
        "if image is None:\n",
        "    print(\"can not find image\")\n",
        "    exit()\n",
        "\n",
        "#convert to gray scale\n",
        "grayImage = cv2.cvtColor(image, cv2.COLOR_BGR2GRAY)\n",
        "\n",
        "#apply gaussian blur\n",
        "grayImage = cv2.GaussianBlur(grayImage, (3, 3), 0)\n",
        "cv2.imwrite(\"/content/gdrive/My Drive/17101104041_gray.jpg\",grayImage)\n",
        "#detect edges\n",
        "edgeImage = cv2.Laplacian(grayImage, -1, ksize=5)\n",
        "edgeImage = 255 - edgeImage\n",
        "\n",
        "#threshold image\n",
        "ret, edgeImage = cv2.threshold(edgeImage, 150, 255, cv2.THRESH_BINARY)\n",
        "cv2.imwrite(\"/content/gdrive/My Drive/17101104041_gray_edge.jpg\",edgeImage)\n",
        "#blur images heavily using edgePreservingFilter\n",
        "edgePreservingImage = cv2.edgePreservingFilter(image, flags=2, sigma_s=50, sigma_r=0.4)\n",
        "cv2.imwrite(\"/content/gdrive/My Drive/17101104041_edge.jpg\",edgePreservingImage)\n",
        "#create output matrix\n",
        "output =np.zeros(grayImage.shape)\n",
        "\n",
        "#combine cartoon image and edges image\n",
        "output = cv2.bitwise_and(edgePreservingImage, edgePreservingImage, mask=edgeImage)\n",
        "cv2.imwrite(\"/content/gdrive/My Drive/17101104041_output.jpg\",output)\n",
        "\n"
      ],
      "execution_count": 3,
      "outputs": [
        {
          "output_type": "execute_result",
          "data": {
            "text/plain": [
              "True"
            ]
          },
          "metadata": {
            "tags": []
          },
          "execution_count": 3
        }
      ]
    },
    {
      "cell_type": "code",
      "metadata": {
        "id": "WU0QpaBgxEL7",
        "colab_type": "code",
        "colab": {}
      },
      "source": [
        ""
      ],
      "execution_count": null,
      "outputs": []
    }
  ]
}